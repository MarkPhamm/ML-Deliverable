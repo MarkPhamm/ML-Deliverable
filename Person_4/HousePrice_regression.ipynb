{
 "cells": [
  {
   "cell_type": "code",
   "execution_count": 30,
   "metadata": {},
   "outputs": [],
   "source": [
    "import pandas as pd\n",
    "import polars as pl\n",
    "import numpy as np\n",
    "import matplotlib.pyplot as plt\n",
    "from sklearn.linear_model import LinearRegression\n",
    "from sklearn.model_selection import train_test_split\n",
    "from sklearn.metrics import mean_squared_error\n",
    "from sklearn.metrics import mean_squared_error, r2_score"
   ]
  },
  {
   "cell_type": "code",
   "execution_count": 3,
   "metadata": {},
   "outputs": [],
   "source": [
    "df = pl.read_csv(\"HousePricePrediction.csv\")"
   ]
  },
  {
   "cell_type": "code",
   "execution_count": 4,
   "metadata": {},
   "outputs": [
    {
     "data": {
      "text/html": [
       "<div><style>\n",
       ".dataframe > thead > tr,\n",
       ".dataframe > tbody > tr {\n",
       "  text-align: right;\n",
       "  white-space: pre-wrap;\n",
       "}\n",
       "</style>\n",
       "<small>shape: (5, 10)</small><table border=\"1\" class=\"dataframe\"><thead><tr><th>status</th><th>bed</th><th>bath</th><th>acre_lot</th><th>city</th><th>state</th><th>zip_code</th><th>house_size</th><th>prev_sold_date</th><th>price</th></tr><tr><td>str</td><td>i64</td><td>i64</td><td>f64</td><td>str</td><td>str</td><td>i64</td><td>i64</td><td>str</td><td>i64</td></tr></thead><tbody><tr><td>&quot;for_sale&quot;</td><td>3</td><td>2</td><td>0.12</td><td>&quot;Adjuntas&quot;</td><td>&quot;Puerto Rico&quot;</td><td>601</td><td>920</td><td>null</td><td>105000</td></tr><tr><td>&quot;for_sale&quot;</td><td>4</td><td>2</td><td>0.08</td><td>&quot;Adjuntas&quot;</td><td>&quot;Puerto Rico&quot;</td><td>601</td><td>1527</td><td>null</td><td>80000</td></tr><tr><td>&quot;for_sale&quot;</td><td>2</td><td>1</td><td>0.15</td><td>&quot;Juana Diaz&quot;</td><td>&quot;Puerto Rico&quot;</td><td>795</td><td>748</td><td>null</td><td>67000</td></tr><tr><td>&quot;for_sale&quot;</td><td>4</td><td>2</td><td>0.1</td><td>&quot;Ponce&quot;</td><td>&quot;Puerto Rico&quot;</td><td>731</td><td>1800</td><td>null</td><td>145000</td></tr><tr><td>&quot;for_sale&quot;</td><td>6</td><td>2</td><td>0.05</td><td>&quot;Mayaguez&quot;</td><td>&quot;Puerto Rico&quot;</td><td>680</td><td>null</td><td>null</td><td>65000</td></tr></tbody></table></div>"
      ],
      "text/plain": [
       "shape: (5, 10)\n",
       "┌──────────┬─────┬──────┬──────────┬───┬──────────┬────────────┬────────────────┬────────┐\n",
       "│ status   ┆ bed ┆ bath ┆ acre_lot ┆ … ┆ zip_code ┆ house_size ┆ prev_sold_date ┆ price  │\n",
       "│ ---      ┆ --- ┆ ---  ┆ ---      ┆   ┆ ---      ┆ ---        ┆ ---            ┆ ---    │\n",
       "│ str      ┆ i64 ┆ i64  ┆ f64      ┆   ┆ i64      ┆ i64        ┆ str            ┆ i64    │\n",
       "╞══════════╪═════╪══════╪══════════╪═══╪══════════╪════════════╪════════════════╪════════╡\n",
       "│ for_sale ┆ 3   ┆ 2    ┆ 0.12     ┆ … ┆ 601      ┆ 920        ┆ null           ┆ 105000 │\n",
       "│ for_sale ┆ 4   ┆ 2    ┆ 0.08     ┆ … ┆ 601      ┆ 1527       ┆ null           ┆ 80000  │\n",
       "│ for_sale ┆ 2   ┆ 1    ┆ 0.15     ┆ … ┆ 795      ┆ 748        ┆ null           ┆ 67000  │\n",
       "│ for_sale ┆ 4   ┆ 2    ┆ 0.1      ┆ … ┆ 731      ┆ 1800       ┆ null           ┆ 145000 │\n",
       "│ for_sale ┆ 6   ┆ 2    ┆ 0.05     ┆ … ┆ 680      ┆ null       ┆ null           ┆ 65000  │\n",
       "└──────────┴─────┴──────┴──────────┴───┴──────────┴────────────┴────────────────┴────────┘"
      ]
     },
     "execution_count": 4,
     "metadata": {},
     "output_type": "execute_result"
    }
   ],
   "source": [
    "df.head()"
   ]
  },
  {
   "cell_type": "code",
   "execution_count": 6,
   "metadata": {},
   "outputs": [
    {
     "name": "stdout",
     "output_type": "stream",
     "text": [
      "shape: (9, 11)\n",
      "┌────────────┬───────────┬──────────┬──────────┬───┬───────────┬───────────┬───────────┬───────────┐\n",
      "│ statistic  ┆ status    ┆ bed      ┆ bath     ┆ … ┆ zip_code  ┆ house_siz ┆ prev_sold ┆ price     │\n",
      "│ ---        ┆ ---       ┆ ---      ┆ ---      ┆   ┆ ---       ┆ e         ┆ _date     ┆ ---       │\n",
      "│ str        ┆ str       ┆ f64      ┆ f64      ┆   ┆ f64       ┆ ---       ┆ ---       ┆ f64       │\n",
      "│            ┆           ┆          ┆          ┆   ┆           ┆ f64       ┆ str       ┆           │\n",
      "╞════════════╪═══════════╪══════════╪══════════╪═══╪═══════════╪═══════════╪═══════════╪═══════════╡\n",
      "│ count      ┆ 904966    ┆ 775126.0 ┆ 791082.0 ┆ … ┆ 904762.0  ┆ 612080.0  ┆ 445865    ┆ 904895.0  │\n",
      "│ null_count ┆ 0         ┆ 129840.0 ┆ 113884.0 ┆ … ┆ 204.0     ┆ 292886.0  ┆ 459101    ┆ 71.0      │\n",
      "│ mean       ┆ null      ┆ 3.33219  ┆ 2.484236 ┆ … ┆ 6519.4645 ┆ 2138.4366 ┆ null      ┆ 877438.15 │\n",
      "│            ┆           ┆          ┆          ┆   ┆ 82        ┆ 67        ┆           ┆ 8334      │\n",
      "│ std        ┆ null      ┆ 2.065312 ┆ 1.931622 ┆ … ┆ 3816.7130 ┆ 3046.5995 ┆ null      ┆ 2.4577e6  │\n",
      "│            ┆           ┆          ┆          ┆   ┆ 93        ┆ 97        ┆           ┆           │\n",
      "│ min        ┆ for_sale  ┆ 1.0      ┆ 1.0      ┆ … ┆ 601.0     ┆ 100.0     ┆ 1/1/1901  ┆ 0.0       │\n",
      "│ 25%        ┆ null      ┆ 2.0      ┆ 2.0      ┆ … ┆ 2908.0    ┆ 1132.0    ┆ null      ┆ 268500.0  │\n",
      "│ 50%        ┆ null      ┆ 3.0      ┆ 2.0      ┆ … ┆ 6811.0    ┆ 1650.0    ┆ null      ┆ 475000.0  │\n",
      "│ 75%        ┆ null      ┆ 4.0      ┆ 3.0      ┆ … ┆ 8854.0    ┆ 2495.0    ┆ null      ┆ 830000.0  │\n",
      "│ max        ┆ ready_to_ ┆ 123.0    ┆ 198.0    ┆ … ┆ 99999.0   ┆ 1.450112e ┆ 9/9/2021  ┆ 8.75e8    │\n",
      "│            ┆ build     ┆          ┆          ┆   ┆           ┆ 6         ┆           ┆           │\n",
      "└────────────┴───────────┴──────────┴──────────┴───┴───────────┴───────────┴───────────┴───────────┘\n"
     ]
    }
   ],
   "source": [
    "print(df.describe())"
   ]
  },
  {
   "cell_type": "code",
   "execution_count": 8,
   "metadata": {},
   "outputs": [],
   "source": [
    "df = df.drop_nulls()"
   ]
  },
  {
   "cell_type": "code",
   "execution_count": 26,
   "metadata": {},
   "outputs": [],
   "source": [
    "# Get the list of columns with string dtype\n",
    "string_columns = [col for col in df.columns if df[col].dtype == pl.Utf8]\n",
    "\n",
    "# Drop the original string columns\n",
    "df = df.drop(string_columns)"
   ]
  },
  {
   "cell_type": "code",
   "execution_count": 27,
   "metadata": {},
   "outputs": [
    {
     "data": {
      "text/html": [
       "<div><style>\n",
       ".dataframe > thead > tr,\n",
       ".dataframe > tbody > tr {\n",
       "  text-align: right;\n",
       "  white-space: pre-wrap;\n",
       "}\n",
       "</style>\n",
       "<small>shape: (5, 6)</small><table border=\"1\" class=\"dataframe\"><thead><tr><th>bed</th><th>bath</th><th>acre_lot</th><th>zip_code</th><th>house_size</th><th>price</th></tr><tr><td>i64</td><td>i64</td><td>f64</td><td>i64</td><td>i64</td><td>i64</td></tr></thead><tbody><tr><td>7</td><td>3</td><td>0.09</td><td>949</td><td>1192</td><td>110000</td></tr><tr><td>7</td><td>3</td><td>0.09</td><td>949</td><td>1192</td><td>110000</td></tr><tr><td>7</td><td>3</td><td>0.09</td><td>949</td><td>1192</td><td>110000</td></tr><tr><td>7</td><td>3</td><td>0.09</td><td>949</td><td>1192</td><td>110000</td></tr><tr><td>7</td><td>3</td><td>0.09</td><td>949</td><td>1192</td><td>110000</td></tr></tbody></table></div>"
      ],
      "text/plain": [
       "shape: (5, 6)\n",
       "┌─────┬──────┬──────────┬──────────┬────────────┬────────┐\n",
       "│ bed ┆ bath ┆ acre_lot ┆ zip_code ┆ house_size ┆ price  │\n",
       "│ --- ┆ ---  ┆ ---      ┆ ---      ┆ ---        ┆ ---    │\n",
       "│ i64 ┆ i64  ┆ f64      ┆ i64      ┆ i64        ┆ i64    │\n",
       "╞═════╪══════╪══════════╪══════════╪════════════╪════════╡\n",
       "│ 7   ┆ 3    ┆ 0.09     ┆ 949      ┆ 1192       ┆ 110000 │\n",
       "│ 7   ┆ 3    ┆ 0.09     ┆ 949      ┆ 1192       ┆ 110000 │\n",
       "│ 7   ┆ 3    ┆ 0.09     ┆ 949      ┆ 1192       ┆ 110000 │\n",
       "│ 7   ┆ 3    ┆ 0.09     ┆ 949      ┆ 1192       ┆ 110000 │\n",
       "│ 7   ┆ 3    ┆ 0.09     ┆ 949      ┆ 1192       ┆ 110000 │\n",
       "└─────┴──────┴──────────┴──────────┴────────────┴────────┘"
      ]
     },
     "execution_count": 27,
     "metadata": {},
     "output_type": "execute_result"
    }
   ],
   "source": [
    "df.head()"
   ]
  },
  {
   "cell_type": "code",
   "execution_count": 31,
   "metadata": {},
   "outputs": [
    {
     "name": "stdout",
     "output_type": "stream",
     "text": [
      "Intercept: -433553.0769208628\n",
      "Coefficients: [-7.27828880e+04  4.61638265e+05  9.23169093e+00 -4.04800945e+00\n",
      "  1.10199889e+02]\n",
      "Mean Squared Error: 1244305776778.698\n",
      "R-squared Score: 0.3042027411827608\n"
     ]
    }
   ],
   "source": [
    "# Get the list of columns with string dtype\n",
    "string_columns = [col for col in df.columns if df[col].dtype == pl.Utf8]\n",
    "\n",
    "# Create dummy variables for string columns\n",
    "for col in string_columns:\n",
    "    unique_values = df[col].unique()\n",
    "    for val in unique_values:\n",
    "        df[val] = (df[col] == val).then_else(pl.lit(1), pl.lit(0))\n",
    "\n",
    "# Drop the original string columns\n",
    "df = df.drop(string_columns)\n",
    "\n",
    "# Define the features (X) and target (y)\n",
    "X = df.drop(\"price\").to_numpy()\n",
    "y = df[\"price\"].to_numpy()\n",
    "\n",
    "# Split the data into training and testing sets\n",
    "X_train, X_test, y_train, y_test = train_test_split(X, y, test_size=0.2, random_state=42)\n",
    "\n",
    "# Initialize and fit the linear regression model\n",
    "model = LinearRegression()\n",
    "model.fit(X_train, y_train)\n",
    "\n",
    "# Print the intercept and coefficients\n",
    "print(\"Intercept:\", model.intercept_)\n",
    "print(\"Coefficients:\", model.coef_)\n",
    "\n",
    "# Predict on the test set\n",
    "y_pred = model.predict(X_test)\n",
    "\n",
    "# Compute the mean squared error\n",
    "mse = mean_squared_error(y_test, y_pred)\n",
    "print(\"Mean Squared Error:\", mse)\n",
    "\n",
    "# Compute the R-squared score\n",
    "score = r2_score(y_test, y_pred)\n",
    "print(\"R-squared Score:\", score)"
   ]
  },
  {
   "cell_type": "code",
   "execution_count": null,
   "metadata": {},
   "outputs": [],
   "source": []
  }
 ],
 "metadata": {
  "kernelspec": {
   "display_name": "base",
   "language": "python",
   "name": "python3"
  },
  "language_info": {
   "codemirror_mode": {
    "name": "ipython",
    "version": 3
   },
   "file_extension": ".py",
   "mimetype": "text/x-python",
   "name": "python",
   "nbconvert_exporter": "python",
   "pygments_lexer": "ipython3",
   "version": "3.11.5"
  }
 },
 "nbformat": 4,
 "nbformat_minor": 2
}
