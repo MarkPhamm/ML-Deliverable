{
 "cells": [
  {
   "cell_type": "code",
   "execution_count": 1,
   "metadata": {},
   "outputs": [],
   "source": [
    "import pandas as pd\n",
    "import matplotlib.pyplot as plt\n",
    "import seaborn as sns\n",
    "import pandas as pd\n",
    "import numpy as np\n",
    "from sklearn.model_selection import train_test_split\n",
    "from sklearn.metrics import accuracy_score, confusion_matrix\n",
    "from sklearn.ensemble import RandomForestClassifier, AdaBoostClassifier, GradientBoostingClassifier\n",
    "from sklearn.tree import DecisionTreeClassifier\n",
    "from sklearn.linear_model import LogisticRegression\n",
    "from sklearn.svm import SVC\n",
    "from sklearn.naive_bayes import GaussianNB\n",
    "from xgboost import XGBClassifier\n",
    "from sklearn.neighbors import KNeighborsClassifier\n",
    "from sklearn.neural_network import MLPClassifier\n",
    "\n",
    "\n",
    "# from pandas_profiling import ProfileReport\n"
   ]
  },
  {
   "cell_type": "code",
   "execution_count": 2,
   "metadata": {},
   "outputs": [],
   "source": [
    "df = pd.read_csv(\"IPODayOne.csv\")"
   ]
  },
  {
   "cell_type": "code",
   "execution_count": 3,
   "metadata": {},
   "outputs": [
    {
     "name": "stdout",
     "output_type": "stream",
     "text": [
      "<class 'pandas.core.frame.DataFrame'>\n",
      "RangeIndex: 1307 entries, 0 to 1306\n",
      "Data columns (total 7 columns):\n",
      " #   Column            Non-Null Count  Dtype  \n",
      "---  ------            --------------  -----  \n",
      " 0   GrossSpread       1300 non-null   float64\n",
      " 1   MarketValue       1307 non-null   int64  \n",
      " 2   OfferPrice        1307 non-null   int64  \n",
      " 3   Shares_offered    1307 non-null   int64  \n",
      " 4   Syndicated        1307 non-null   int64  \n",
      " 5   Num_underwriters  1307 non-null   int64  \n",
      " 6   Day1Perf          1307 non-null   int64  \n",
      "dtypes: float64(1), int64(6)\n",
      "memory usage: 71.6 KB\n"
     ]
    }
   ],
   "source": [
    "df.info()"
   ]
  },
  {
   "cell_type": "code",
   "execution_count": 4,
   "metadata": {},
   "outputs": [
    {
     "data": {
      "text/plain": [
       "array([1, 2, 3], dtype=int64)"
      ]
     },
     "execution_count": 4,
     "metadata": {},
     "output_type": "execute_result"
    }
   ],
   "source": [
    "df['Day1Perf'].unique()"
   ]
  },
  {
   "cell_type": "code",
   "execution_count": 5,
   "metadata": {},
   "outputs": [
    {
     "data": {
      "text/html": [
       "<div>\n",
       "<style scoped>\n",
       "    .dataframe tbody tr th:only-of-type {\n",
       "        vertical-align: middle;\n",
       "    }\n",
       "\n",
       "    .dataframe tbody tr th {\n",
       "        vertical-align: top;\n",
       "    }\n",
       "\n",
       "    .dataframe thead th {\n",
       "        text-align: right;\n",
       "    }\n",
       "</style>\n",
       "<table border=\"1\" class=\"dataframe\">\n",
       "  <thead>\n",
       "    <tr style=\"text-align: right;\">\n",
       "      <th></th>\n",
       "      <th>GrossSpread</th>\n",
       "      <th>MarketValue</th>\n",
       "      <th>OfferPrice</th>\n",
       "      <th>Shares_offered</th>\n",
       "      <th>Syndicated</th>\n",
       "      <th>Num_underwriters</th>\n",
       "      <th>Day1Perf</th>\n",
       "    </tr>\n",
       "  </thead>\n",
       "  <tbody>\n",
       "    <tr>\n",
       "      <th>0</th>\n",
       "      <td>740600.0</td>\n",
       "      <td>672</td>\n",
       "      <td>48</td>\n",
       "      <td>1150000</td>\n",
       "      <td>0</td>\n",
       "      <td>3</td>\n",
       "      <td>1</td>\n",
       "    </tr>\n",
       "    <tr>\n",
       "      <th>1</th>\n",
       "      <td>16351563.0</td>\n",
       "      <td>647</td>\n",
       "      <td>18</td>\n",
       "      <td>12500000</td>\n",
       "      <td>0</td>\n",
       "      <td>10</td>\n",
       "      <td>1</td>\n",
       "    </tr>\n",
       "    <tr>\n",
       "      <th>2</th>\n",
       "      <td>11765149.0</td>\n",
       "      <td>475</td>\n",
       "      <td>10</td>\n",
       "      <td>23157895</td>\n",
       "      <td>0</td>\n",
       "      <td>5</td>\n",
       "      <td>1</td>\n",
       "    </tr>\n",
       "    <tr>\n",
       "      <th>3</th>\n",
       "      <td>877675.0</td>\n",
       "      <td>29</td>\n",
       "      <td>5</td>\n",
       "      <td>1888888</td>\n",
       "      <td>0</td>\n",
       "      <td>1</td>\n",
       "      <td>1</td>\n",
       "    </tr>\n",
       "    <tr>\n",
       "      <th>4</th>\n",
       "      <td>1045781.0</td>\n",
       "      <td>427</td>\n",
       "      <td>8</td>\n",
       "      <td>1875000</td>\n",
       "      <td>0</td>\n",
       "      <td>2</td>\n",
       "      <td>1</td>\n",
       "    </tr>\n",
       "  </tbody>\n",
       "</table>\n",
       "</div>"
      ],
      "text/plain": [
       "   GrossSpread  MarketValue  OfferPrice  Shares_offered  Syndicated  \\\n",
       "0     740600.0          672          48         1150000           0   \n",
       "1   16351563.0          647          18        12500000           0   \n",
       "2   11765149.0          475          10        23157895           0   \n",
       "3     877675.0           29           5         1888888           0   \n",
       "4    1045781.0          427           8         1875000           0   \n",
       "\n",
       "   Num_underwriters  Day1Perf  \n",
       "0                 3         1  \n",
       "1                10         1  \n",
       "2                 5         1  \n",
       "3                 1         1  \n",
       "4                 2         1  "
      ]
     },
     "execution_count": 5,
     "metadata": {},
     "output_type": "execute_result"
    }
   ],
   "source": [
    "df.head()"
   ]
  },
  {
   "cell_type": "code",
   "execution_count": 6,
   "metadata": {},
   "outputs": [],
   "source": [
    "df.dropna(inplace = True)"
   ]
  },
  {
   "cell_type": "code",
   "execution_count": 7,
   "metadata": {},
   "outputs": [],
   "source": [
    "def build_classification_model(data, target_column, model_choice):\n",
    "    \"\"\"\n",
    "    Build a classification model based on the user's choice of model and print out the top 3 important features.\n",
    "    \n",
    "    Parameters:\n",
    "        data (DataFrame): The input DataFrame.\n",
    "        target_column (str): The name of the target column.\n",
    "        model_choice (str): The chosen classification model \n",
    "                            ('Random Forest', 'Decision Tree', 'Logistic Regression', 'SVM', 'Naive Bayes', or 'XGBoost').\n",
    "    \n",
    "    Returns:\n",
    "        dict: A dictionary containing train score, test score, confusion matrix, and predictions.\n",
    "    \"\"\"\n",
    "    # Extract features and target\n",
    "    X = data.drop(columns=[target_column])\n",
    "    y = data[target_column]\n",
    "    \n",
    "    # Split data into training and testing sets\n",
    "    X_train, X_test, y_train, y_test = train_test_split(X, y, test_size=0.2, random_state=42)\n",
    "    \n",
    "    # Initialize the chosen classification model\n",
    "    if model_choice == 'Random Forest':\n",
    "        model = RandomForestClassifier()\n",
    "    elif model_choice == 'Decision Tree':\n",
    "        model = DecisionTreeClassifier()\n",
    "    elif model_choice == 'Logistic Regression':\n",
    "        model = LogisticRegression()\n",
    "    elif model_choice == 'SVM':\n",
    "        model = SVC()\n",
    "    elif model_choice == 'Naive Bayes':\n",
    "        model = GaussianNB()\n",
    "    elif model_choice == 'XGBoost':\n",
    "        model = XGBClassifier()\n",
    "    elif model_choice == 'KNN':\n",
    "        model = KNeighborsClassifier()\n",
    "    elif model_choice == 'AdaBoost':\n",
    "        model = AdaBoostClassifier()\n",
    "    elif model_choice == 'Gradient Boosting':\n",
    "        model = GradientBoostingClassifier()\n",
    "    elif model_choice == 'Neural Network':\n",
    "        model = MLPClassifier()\n",
    "    else:\n",
    "        raise ValueError(\"Invalid model choice. Choose from 'Random Forest', 'Decision Tree', 'Logistic Regression', 'SVM', 'Naive Bayes', 'XGBoost', 'KNN', 'AdaBoost', 'Gradient Boosting', or 'Neural Network'.\")\n",
    "   \n",
    "    # Train the model\n",
    "    model.fit(X_train, y_train)\n",
    "    \n",
    "    # Get feature importance (if applicable)\n",
    "    if hasattr(model, 'feature_importances_'):\n",
    "        feature_importance = model.feature_importances_\n",
    "        if len(feature_importance) >= 3:\n",
    "            top_features_idx = np.argsort(feature_importance)[::-1][:3]\n",
    "            top_features = X.columns[top_features_idx]\n",
    "            print(f\"Top 3 important features affecting {target_column}:\")\n",
    "            for i, feature in enumerate(top_features):\n",
    "                print(f\"{i+1}. {feature}\")\n",
    "        else:\n",
    "            print(\"Feature importance is not available for this model.\")\n",
    "    else:\n",
    "        print(\"Feature importance is not available for this model.\")\n",
    "    \n",
    "    # Make predictions\n",
    "    y_pred = model.predict(X_test)\n",
    "    \n",
    "    # Calculate train and test scores\n",
    "    train_score = model.score(X_train, y_train)\n",
    "    test_score = model.score(X_test, y_test)\n",
    "    \n",
    "    # Calculate confusion matrix\n",
    "    conf_matrix = confusion_matrix(y_test, y_pred)\n",
    "    \n",
    "    # Create dictionary to store results\n",
    "    results = {\n",
    "        'train_score': train_score,\n",
    "        'test_score': test_score,\n",
    "        'confusion_matrix': conf_matrix,\n",
    "        'predictions': y_pred\n",
    "    }\n",
    "    \n",
    "    return results"
   ]
  },
  {
   "cell_type": "code",
   "execution_count": 8,
   "metadata": {},
   "outputs": [
    {
     "name": "stdout",
     "output_type": "stream",
     "text": [
      "Top 3 important features affecting Day1Perf:\n",
      "1. MarketValue\n",
      "2. GrossSpread\n",
      "3. Shares_offered\n",
      "Train Score: 1.0\n",
      "Test Score: 0.4076923076923077\n",
      "Confusion Matrix:\n",
      "[[45 33 25]\n",
      " [31 24 29]\n",
      " [18 18 37]]\n",
      "Predictions:\n",
      "[1 2 2 3 1 1 3 1 3 3 3 3 3 3 1 1 3 3 2 1 3 3 2 3 2 2 1 3 1 2 2 1 2 1 2 3 2\n",
      " 3 2 3 2 2 3 3 2 1 1 3 1 2 3 3 2 3 2 1 1 2 3 1 2 2 3 1 3 2 3 1 1 1 2 3 3 2\n",
      " 1 2 3 3 2 3 2 1 1 2 1 1 2 1 1 3 1 3 1 2 3 3 2 1 3 3 2 1 3 2 3 2 3 3 1 1 1\n",
      " 3 1 3 2 1 1 3 2 3 1 1 2 3 1 3 3 3 2 2 1 3 3 1 3 2 1 1 2 2 1 3 2 1 1 1 1 3\n",
      " 1 2 1 3 2 1 2 1 3 1 2 2 3 3 3 2 1 3 1 1 1 3 2 1 3 2 3 3 1 1 3 3 1 3 2 3 3\n",
      " 3 1 2 1 1 2 1 1 3 1 2 1 3 2 3 1 3 1 3 1 3 2 1 1 1 2 1 2 3 2 1 2 1 1 3 3 2\n",
      " 3 1 2 2 1 2 3 3 2 2 2 1 3 1 3 1 3 1 3 2 3 2 2 1 3 1 1 1 2 1 3 1 2 3 1 2 1\n",
      " 2]\n"
     ]
    }
   ],
   "source": [
    "results = build_classification_model(df, \"Day1Perf\", \"Decision Tree\")\n",
    "print(\"Train Score:\", results['train_score'])\n",
    "print(\"Test Score:\", results['test_score'])\n",
    "print(\"Confusion Matrix:\")\n",
    "print(results['confusion_matrix'])\n",
    "print(\"Predictions:\")\n",
    "print(results['predictions'])"
   ]
  },
  {
   "cell_type": "code",
   "execution_count": 9,
   "metadata": {},
   "outputs": [
    {
     "name": "stdout",
     "output_type": "stream",
     "text": [
      "Top 3 important features affecting Day1Perf:\n",
      "1. GrossSpread\n",
      "2. MarketValue\n",
      "3. Shares_offered\n",
      "Train Score: 1.0\n",
      "Test Score: 0.5076923076923077\n",
      "Confusion Matrix:\n",
      "[[63 23 17]\n",
      " [32 23 29]\n",
      " [14 13 46]]\n",
      "Predictions:\n",
      "[1 2 1 3 1 1 3 1 2 2 3 3 3 1 3 1 3 1 2 1 3 1 1 1 1 2 1 1 1 2 2 1 2 1 2 3 2\n",
      " 3 3 3 3 1 2 3 2 1 2 3 1 2 3 3 1 3 1 1 1 1 3 3 3 3 3 1 3 3 1 1 2 3 3 3 3 2\n",
      " 1 3 3 1 2 2 1 1 1 1 1 2 3 3 1 3 1 3 1 2 3 3 2 3 2 3 2 1 3 3 1 1 3 2 1 1 1\n",
      " 1 2 3 1 1 1 1 3 3 2 3 1 3 1 1 3 1 2 2 1 3 3 1 3 2 2 3 2 2 1 1 3 3 1 1 3 2\n",
      " 3 1 1 3 1 3 2 1 3 1 3 2 1 3 3 3 3 3 1 1 1 1 2 1 2 2 3 3 1 1 3 3 1 2 2 3 3\n",
      " 1 1 2 1 1 2 1 1 3 1 2 3 3 2 2 1 3 1 3 1 3 3 1 2 3 1 1 2 1 1 3 2 3 1 1 3 2\n",
      " 3 1 2 1 3 1 3 2 1 2 2 3 1 3 3 1 1 1 3 1 3 3 2 1 1 2 1 1 1 1 3 1 2 2 1 2 1\n",
      " 2]\n"
     ]
    }
   ],
   "source": [
    "results = build_classification_model(df, \"Day1Perf\", \"Random Forest\")\n",
    "print(\"Train Score:\", results['train_score'])\n",
    "print(\"Test Score:\", results['test_score'])\n",
    "print(\"Confusion Matrix:\")\n",
    "print(results['confusion_matrix'])\n",
    "print(\"Predictions:\")\n",
    "print(results['predictions'])"
   ]
  },
  {
   "cell_type": "code",
   "execution_count": 10,
   "metadata": {},
   "outputs": [
    {
     "name": "stdout",
     "output_type": "stream",
     "text": [
      "Top 3 important features affecting Day1Perf:\n",
      "1. Num_underwriters\n",
      "2. Shares_offered\n",
      "3. Syndicated\n",
      "Train Score: 1.0\n",
      "Test Score: 0.46153846153846156\n",
      "Confusion Matrix:\n",
      "[[60 27 16]\n",
      " [30 24 30]\n",
      " [24 13 36]]\n",
      "Predictions:\n",
      "[0 1 0 2 0 0 2 0 1 1 2 0 2 0 2 0 2 0 1 0 2 0 0 2 0 1 0 0 0 1 1 0 1 0 1 2 1\n",
      " 2 2 0 0 1 1 2 1 0 0 2 2 1 2 2 2 2 0 0 0 1 2 0 1 2 2 0 2 2 0 0 0 0 1 2 0 1\n",
      " 0 2 2 0 0 1 0 0 0 0 0 1 1 0 0 2 0 0 2 1 2 2 1 0 1 1 1 0 2 2 0 0 2 1 0 0 0\n",
      " 0 1 2 2 0 0 0 2 2 0 0 0 2 0 0 2 1 1 1 0 2 2 0 2 1 1 0 1 1 1 2 2 2 0 0 2 1\n",
      " 2 1 0 2 0 0 1 0 2 0 2 1 0 0 2 1 2 2 0 0 0 0 2 0 1 1 2 1 2 0 2 2 0 1 1 2 2\n",
      " 0 0 1 0 2 1 0 0 2 0 1 0 2 1 1 0 1 0 2 0 2 2 0 0 0 0 1 0 0 0 1 1 2 0 2 2 1\n",
      " 2 2 0 0 2 0 2 1 0 1 1 0 0 2 2 0 2 0 2 2 2 2 1 0 1 1 0 0 0 0 2 0 0 2 0 1 0\n",
      " 1]\n"
     ]
    }
   ],
   "source": [
    "df['Day1Perf'] = df['Day1Perf']-1\n",
    "results = build_classification_model(df, \"Day1Perf\", \"XGBoost\")\n",
    "print(\"Train Score:\", results['train_score'])\n",
    "print(\"Test Score:\", results['test_score'])\n",
    "print(\"Confusion Matrix:\")\n",
    "print(results['confusion_matrix'])\n",
    "print(\"Predictions:\")\n",
    "print(results['predictions'])"
   ]
  },
  {
   "cell_type": "code",
   "execution_count": 15,
   "metadata": {},
   "outputs": [
    {
     "name": "stdout",
     "output_type": "stream",
     "text": [
      "Top 3 important features affecting Day1Perf:\n",
      "1. GrossSpread\n",
      "2. MarketValue\n",
      "3. Shares_offered\n",
      "Train Score: 0.5721153846153846\n",
      "Test Score: 0.46923076923076923\n",
      "Confusion Matrix:\n",
      "[[68 15 20]\n",
      " [37 16 31]\n",
      " [21 14 38]]\n",
      "Predictions:\n",
      "[1 0 0 0 0 0 2 0 2 0 2 2 0 2 2 0 2 0 0 0 2 2 1 0 0 0 2 0 2 2 0 0 0 0 1 2 1\n",
      " 1 2 0 0 2 0 2 2 0 2 2 1 1 1 2 0 0 1 1 2 0 2 0 2 2 2 2 2 0 0 0 0 2 2 2 0 0\n",
      " 2 2 2 0 2 1 0 0 0 0 0 2 0 2 0 0 0 1 0 0 2 1 1 0 0 1 1 1 2 2 0 0 2 2 0 0 0\n",
      " 2 0 0 0 0 0 0 1 2 1 2 0 1 1 0 2 1 1 0 0 0 1 2 2 0 0 0 0 1 0 0 2 2 0 0 2 2\n",
      " 2 2 1 1 0 0 0 0 2 0 2 0 1 0 2 2 2 0 2 2 2 0 2 0 1 1 0 1 0 0 2 2 0 1 1 2 2\n",
      " 0 0 2 0 1 2 2 1 2 0 1 0 0 1 1 0 2 0 2 0 0 2 2 2 0 0 0 0 0 0 2 0 2 0 0 2 2\n",
      " 2 1 2 1 2 0 2 1 0 1 0 0 0 0 2 2 0 0 2 0 2 0 1 0 0 0 0 0 0 1 2 0 0 2 0 0 0\n",
      " 1]\n"
     ]
    }
   ],
   "source": [
    "results = build_classification_model(df, \"Day1Perf\", \"AdaBoost\")\n",
    "print(\"Train Score:\", results['train_score'])\n",
    "print(\"Test Score:\", results['test_score'])\n",
    "print(\"Confusion Matrix:\")\n",
    "print(results['confusion_matrix'])\n",
    "print(\"Predictions:\")\n",
    "print(results['predictions'])"
   ]
  }
 ],
 "metadata": {
  "kernelspec": {
   "display_name": "base",
   "language": "python",
   "name": "python3"
  },
  "language_info": {
   "codemirror_mode": {
    "name": "ipython",
    "version": 3
   },
   "file_extension": ".py",
   "mimetype": "text/x-python",
   "name": "python",
   "nbconvert_exporter": "python",
   "pygments_lexer": "ipython3",
   "version": "3.11.5"
  }
 },
 "nbformat": 4,
 "nbformat_minor": 2
}
