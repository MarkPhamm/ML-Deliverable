{
 "cells": [
  {
   "cell_type": "code",
   "execution_count": 14,
   "metadata": {},
   "outputs": [],
   "source": [
    "import pandas as pd\n",
    "import pandas as pd\n",
    "import numpy as np\n",
    "import matplotlib.pyplot as plt\n",
    "from sklearn.linear_model import LinearRegression\n",
    "from sklearn.model_selection import train_test_split\n",
    "from sklearn.metrics import mean_squared_error\n",
    "from sklearn.preprocessing import MinMaxScaler\n"
   ]
  },
  {
   "cell_type": "code",
   "execution_count": 15,
   "metadata": {},
   "outputs": [],
   "source": [
    "df = pd.read_csv(\"IPODayOne.csv\")"
   ]
  },
  {
   "cell_type": "code",
   "execution_count": 16,
   "metadata": {},
   "outputs": [],
   "source": [
    "df.dropna(inplace = True)"
   ]
  },
  {
   "cell_type": "code",
   "execution_count": 17,
   "metadata": {},
   "outputs": [
    {
     "data": {
      "text/html": [
       "<div>\n",
       "<style scoped>\n",
       "    .dataframe tbody tr th:only-of-type {\n",
       "        vertical-align: middle;\n",
       "    }\n",
       "\n",
       "    .dataframe tbody tr th {\n",
       "        vertical-align: top;\n",
       "    }\n",
       "\n",
       "    .dataframe thead th {\n",
       "        text-align: right;\n",
       "    }\n",
       "</style>\n",
       "<table border=\"1\" class=\"dataframe\">\n",
       "  <thead>\n",
       "    <tr style=\"text-align: right;\">\n",
       "      <th></th>\n",
       "      <th>GrossSpread</th>\n",
       "      <th>MarketValue</th>\n",
       "      <th>OfferPrice</th>\n",
       "      <th>Shares_offered</th>\n",
       "      <th>Syndicated</th>\n",
       "      <th>Num_underwriters</th>\n",
       "      <th>Day1Perf</th>\n",
       "    </tr>\n",
       "  </thead>\n",
       "  <tbody>\n",
       "    <tr>\n",
       "      <th>0</th>\n",
       "      <td>740600.0</td>\n",
       "      <td>672</td>\n",
       "      <td>48</td>\n",
       "      <td>1150000</td>\n",
       "      <td>0</td>\n",
       "      <td>3</td>\n",
       "      <td>1</td>\n",
       "    </tr>\n",
       "    <tr>\n",
       "      <th>1</th>\n",
       "      <td>16351563.0</td>\n",
       "      <td>647</td>\n",
       "      <td>18</td>\n",
       "      <td>12500000</td>\n",
       "      <td>0</td>\n",
       "      <td>10</td>\n",
       "      <td>1</td>\n",
       "    </tr>\n",
       "    <tr>\n",
       "      <th>2</th>\n",
       "      <td>11765149.0</td>\n",
       "      <td>475</td>\n",
       "      <td>10</td>\n",
       "      <td>23157895</td>\n",
       "      <td>0</td>\n",
       "      <td>5</td>\n",
       "      <td>1</td>\n",
       "    </tr>\n",
       "    <tr>\n",
       "      <th>3</th>\n",
       "      <td>877675.0</td>\n",
       "      <td>29</td>\n",
       "      <td>5</td>\n",
       "      <td>1888888</td>\n",
       "      <td>0</td>\n",
       "      <td>1</td>\n",
       "      <td>1</td>\n",
       "    </tr>\n",
       "    <tr>\n",
       "      <th>4</th>\n",
       "      <td>1045781.0</td>\n",
       "      <td>427</td>\n",
       "      <td>8</td>\n",
       "      <td>1875000</td>\n",
       "      <td>0</td>\n",
       "      <td>2</td>\n",
       "      <td>1</td>\n",
       "    </tr>\n",
       "  </tbody>\n",
       "</table>\n",
       "</div>"
      ],
      "text/plain": [
       "   GrossSpread  MarketValue  OfferPrice  Shares_offered  Syndicated  \\\n",
       "0     740600.0          672          48         1150000           0   \n",
       "1   16351563.0          647          18        12500000           0   \n",
       "2   11765149.0          475          10        23157895           0   \n",
       "3     877675.0           29           5         1888888           0   \n",
       "4    1045781.0          427           8         1875000           0   \n",
       "\n",
       "   Num_underwriters  Day1Perf  \n",
       "0                 3         1  \n",
       "1                10         1  \n",
       "2                 5         1  \n",
       "3                 1         1  \n",
       "4                 2         1  "
      ]
     },
     "execution_count": 17,
     "metadata": {},
     "output_type": "execute_result"
    }
   ],
   "source": [
    "df.head()"
   ]
  },
  {
   "cell_type": "code",
   "execution_count": 18,
   "metadata": {},
   "outputs": [],
   "source": [
    "def remove_outliers_iqr(df):\n",
    "    \"\"\"\n",
    "    Remove outliers from numerical columns in a DataFrame using the Interquartile Range (IQR) method.\n",
    "    \n",
    "    Parameters:\n",
    "        df (DataFrame): Input DataFrame.\n",
    "    \n",
    "    Returns:\n",
    "        DataFrame: DataFrame with outliers removed.\n",
    "    \"\"\"\n",
    "    # Copy the input DataFrame to avoid modifying the original DataFrame\n",
    "    df_cleaned = df.copy()\n",
    "    \n",
    "    # Counter to keep track of the number of data points removed\n",
    "    num_removed = 0\n",
    "    \n",
    "    # Iterate over numerical columns\n",
    "    for column in df_cleaned.select_dtypes(include='number').columns:\n",
    "        # Calculate Q1 (25th percentile) and Q3 (75th percentile)\n",
    "        q1 = df_cleaned[column].quantile(0.25)\n",
    "        q3 = df_cleaned[column].quantile(0.75)\n",
    "        \n",
    "        # Calculate IQR (Interquartile Range)\n",
    "        iqr = q3 - q1\n",
    "        \n",
    "        # Define the lower and upper bounds for outliers\n",
    "        lower_bound = q1 - 1.5 * iqr\n",
    "        upper_bound = q3 + 1.5 * iqr\n",
    "        \n",
    "        # Count outliers and replace with NaN\n",
    "        outliers = (df_cleaned[column] < lower_bound) | (df_cleaned[column] > upper_bound)\n",
    "        num_removed += outliers.sum()\n",
    "        df_cleaned.loc[outliers, column] = np.nan\n",
    "    \n",
    "    # Drop rows containing NaN values (outliers)\n",
    "    df_cleaned = df_cleaned.dropna()\n",
    "    \n",
    "    # Print the number of data points removed\n",
    "    print(f\"Number of data points removed: {num_removed}\")\n",
    "    \n",
    "    return df_cleaned"
   ]
  },
  {
   "cell_type": "code",
   "execution_count": 19,
   "metadata": {},
   "outputs": [
    {
     "name": "stdout",
     "output_type": "stream",
     "text": [
      "Number of data points removed: 502\n"
     ]
    }
   ],
   "source": [
    "df = remove_outliers_iqr(df)"
   ]
  },
  {
   "cell_type": "code",
   "execution_count": 20,
   "metadata": {},
   "outputs": [],
   "source": [
    "def build_linear_regression_model(data, target_column):\n",
    "    \"\"\"\n",
    "    Build a linear regression model based on the input DataFrame and target column.\n",
    "    \n",
    "    Parameters:\n",
    "        data (DataFrame): The input DataFrame.\n",
    "        target_column (str): The name of the target column.\n",
    "    \n",
    "    Returns:\n",
    "        dict: A dictionary containing train score, test score, mean squared error, model coefficients, and the scatter plot.\n",
    "    \"\"\"\n",
    "    # Extract features and target\n",
    "    X = data.drop(columns=[target_column])\n",
    "    y = data[target_column]\n",
    "    \n",
    "    # Split data into training and testing sets\n",
    "    X_train, X_test, y_train, y_test = train_test_split(X, y, test_size=0.2, random_state=42)\n",
    "    \n",
    "    # Initialize the linear regression model\n",
    "    model = LinearRegression()\n",
    "    \n",
    "    # Train the model\n",
    "    model.fit(X_train, y_train)\n",
    "    \n",
    "    # Make predictions\n",
    "    y_pred_train = model.predict(X_train)\n",
    "    y_pred_test = model.predict(X_test)\n",
    "    \n",
    "    # Calculate train and test scores\n",
    "    train_score = model.score(X_train, y_train)\n",
    "    test_score = model.score(X_test, y_test)\n",
    "    \n",
    "    # Calculate mean squared error\n",
    "    mse_train = mean_squared_error(y_train, y_pred_train)\n",
    "    mse_test = mean_squared_error(y_test, y_pred_test)\n",
    "    \n",
    "    # Get model coefficients\n",
    "    coefficients = model.coef_\n",
    "    \n",
    "    # Create dictionary to store results\n",
    "    results = {\n",
    "        'train_score': train_score,\n",
    "        'test_score': test_score,\n",
    "        'mse_train': mse_train,\n",
    "        'mse_test': mse_test,\n",
    "        'coefficients': coefficients\n",
    "    }\n",
    "    \n",
    "    # Plot actual vs predicted values\n",
    "    plt.figure(figsize=(8, 6))\n",
    "    plt.scatter(y_test, y_pred_test)\n",
    "    plt.plot(y_test, y_test, color='red', linestyle='--')  # Plot the diagonal line\n",
    "    plt.title('Actual vs Predicted')\n",
    "    plt.xlabel('Actual')\n",
    "    plt.ylabel('Predicted')\n",
    "    plt.grid(True)\n",
    "    plt.show()\n",
    "    \n",
    "    return results"
   ]
  },
  {
   "cell_type": "code",
   "execution_count": 21,
   "metadata": {},
   "outputs": [],
   "source": [
    "def scale_dataframe(df, columns_to_scale=None):\n",
    "    \"\"\"\n",
    "    Scale the specified columns in the DataFrame using Min-Max scaling.\n",
    "    \n",
    "    Parameters:\n",
    "        df (pandas.DataFrame): DataFrame to be scaled.\n",
    "        columns_to_scale (list): List of columns to be scaled. If None, scale all numerical columns.\n",
    "        \n",
    "    Returns:\n",
    "        pandas.DataFrame: Scaled DataFrame.\n",
    "    \"\"\"\n",
    "    scaler = MinMaxScaler()\n",
    "    if columns_to_scale is None:\n",
    "        columns_to_scale = df.select_dtypes(include=['number']).columns.tolist()\n",
    "    df_scaled = df.copy()\n",
    "    df_scaled[columns_to_scale] = scaler.fit_transform(df_scaled[columns_to_scale])\n",
    "    return df_scaled"
   ]
  },
  {
   "cell_type": "code",
   "execution_count": 22,
   "metadata": {},
   "outputs": [],
   "source": [
    "df = scale_dataframe(df)"
   ]
  },
  {
   "cell_type": "code",
   "execution_count": 23,
   "metadata": {},
   "outputs": [
    {
     "data": {
      "image/png": "[encoded data removed]",
      "text/plain": [
       "<Figure size 800x600 with 1 Axes>"
      ]
     },
     "metadata": {},
     "output_type": "display_data"
    },
    {
     "data": {
      "text/plain": [
       "{'train_score': 0.87642050626285,\n",
       " 'test_score': 0.8720879936025172,\n",
       " 'mse_train': 0.005230514857214921,\n",
       " 'mse_test': 0.004419645986572595,\n",
       " 'coefficients': array([ 0.06356026,  0.37058907,  0.77002617, -0.00782485,  0.02160493,\n",
       "         0.03862976])}"
      ]
     },
     "execution_count": 23,
     "metadata": {},
     "output_type": "execute_result"
    }
   ],
   "source": [
    "build_linear_regression_model(df, \"GrossSpread\")"
   ]
  }
 ],
 "metadata": {
  "kernelspec": {
   "display_name": "base",
   "language": "python",
   "name": "python3"
  },
  "language_info": {
   "codemirror_mode": {
    "name": "ipython",
    "version": 3
   },
   "file_extension": ".py",
   "mimetype": "text/x-python",
   "name": "python",
   "nbconvert_exporter": "python",
   "pygments_lexer": "ipython3",
   "version": "3.11.5"
  }
 },
 "nbformat": 4,
 "nbformat_minor": 2
}
